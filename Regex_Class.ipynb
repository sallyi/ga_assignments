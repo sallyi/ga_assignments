{
 "metadata": {
  "name": "",
  "signature": "sha256:0be078453138e5012b2c13172b164ecdde5af3b104f26afc86ca18176559057a"
 },
 "nbformat": 3,
 "nbformat_minor": 0,
 "worksheets": [
  {
   "cells": [
    {
     "cell_type": "markdown",
     "metadata": {},
     "source": [
      "# Regular Expressions\n",
      "### What are regular expressions?\n",
      "\n",
      "http://en.wikipedia.org/wiki/Regular_expression\n",
      "\n",
      "\n",
      "Most people think of Regex (pronounced _G_ not _J_! If you say _rejex_ you are dead to me) as a type of syntactic expression that is used to do **pattern matching** in strings. Some say that it is just a \"pattern\". But it is more than that...\n",
      "\n",
      "### So what really _is_ it?",
      "\n",
      "According to [Damian Conway](https://en.wikipedia.org/wiki/Damian_Conway), a major contributor to designing Perl Regex: \"Regular expressions are subroutines".\",
      "\n",
      "A very useful tool for visualizing how these subroutines look: [Debuggex](https://www.debuggex.com/)\n",
      "and whether or not your regex is matching: [Regexr](http://www.regexr.com/)\n",
      "\n",
      "### So How do we use regular expressions in Python?\n",
      "First..."
     ]
    },
    {
     "cell_type": "code",
     "collapsed": false,
     "input": [
      "import re"
     ],
     "language": "python",
     "metadata": {},
     "outputs": [],
     "prompt_number": 1
    },
    {
     "cell_type": "markdown",
     "metadata": {},
     "source": [
      "Then define your test string:"
     ]
    },
    {
     "cell_type": "code",
     "collapsed": false,
     "input": [
      "sentence = \"The girls have 12 llamas, but the 4 boys only have 5 llamas. I have 12 alpacas, but I want a llama.\""
     ],
     "language": "python",
     "metadata": {},
     "outputs": [],
     "prompt_number": 2
    },
    {
     "cell_type": "markdown",
     "metadata": {},
     "source": [
      "Use an re function to look for patterns in your text."
     ]
    },
    {
     "cell_type": "code",
     "collapsed": false,
     "input": [
      "m = re.findall(\".+\", sentence)  # \".\" signifies any character (letter, number, punct, space),\"+\" means 1 or more occurences\n",
      "print m\n",
      "m = re.findall(\"\\w+\", sentence)  # \"\\w\" includes all letters and numbers, plus means 1 or more of the previous char\n",
      "print m"
     ],
     "language": "python",
     "metadata": {},
     "outputs": [
      {
       "output_type": "stream",
       "stream": "stdout",
       "text": [
        "['The girls have 12 llamas, but the 4 boys only have 5 llamas. I have 12 alpacas, but I want a llama.']\n",
        "['The', 'girls', 'have', '12', 'llamas', 'but', 'the', '4', 'boys', 'only', 'have', '5', 'llamas', 'I', 'have', '12', 'alpacas', 'but', 'I', 'want', 'a', 'llama']\n"
       ]
      }
     ],
     "prompt_number": 3
    },
    {
     "cell_type": "code",
     "collapsed": false,
     "input": [
      "m = re.findall(\"\\W+\", sentence)  # everything that is not a letter or number\n",
      "print m"
     ],
     "language": "python",
     "metadata": {},
     "outputs": [
      {
       "output_type": "stream",
       "stream": "stdout",
       "text": [
        "[' ', ' ', ' ', ' ', ', ', ' ', ' ', ' ', ' ', ' ', ' ', ' ', '. ', ' ', ' ', ' ', ', ', ' ', ' ', ' ', ' ', '.']\n"
       ]
      }
     ],
     "prompt_number": 4
    },
    {
     "cell_type": "code",
     "collapsed": false,
     "input": [
      "m = re.findall(\"\\d+\", sentence)  # \"\\d\" includes all numbers\n",
      "print m"
     ],
     "language": "python",
     "metadata": {},
     "outputs": [
      {
       "output_type": "stream",
       "stream": "stdout",
       "text": [
        "['12', '4', '5', '12']\n"
       ]
      }
     ],
     "prompt_number": 5
    },
    {
     "cell_type": "code",
     "collapsed": false,
     "input": [
      "m = re.findall(\"\\D+\", sentence)  # everything that is not a digit\n",
      "print m"
     ],
     "language": "python",
     "metadata": {},
     "outputs": [
      {
       "output_type": "stream",
       "stream": "stdout",
       "text": [
        "['The girls have ', ' llamas, but the ', ' boys only have ', ' llamas. I have ', ' alpacas, but I want a llama.']\n"
       ]
      }
     ],
     "prompt_number": 6
    },
    {
     "cell_type": "code",
     "collapsed": false,
     "input": [
      "m = re.findall(\"[0-9a-zA-Z]+\", sentence)  # a range of numbers and letters\n",
      "print m"
     ],
     "language": "python",
     "metadata": {},
     "outputs": [
      {
       "output_type": "stream",
       "stream": "stdout",
       "text": [
        "['The', 'girls', 'have', '12', 'llamas', 'but', 'the', '4', 'boys', 'only', 'have', '5', 'llamas', 'I', 'have', '12', 'alpacas', 'but', 'I', 'want', 'a', 'llama']\n"
       ]
      }
     ],
     "prompt_number": 7
    },
    {
     "cell_type": "markdown",
     "metadata": {},
     "source": [
      "The output is the same as with \\w+. If there were non-english characters, this range would not capture them.\n"
     ]
    },
    {
     "cell_type": "code",
     "collapsed": false,
     "input": [
      "m = re.findall(\"[0-9a-zA-Z]+\",\"\u00bfC\u00f3mo te llamas?\")\n",
      "print m\n",
      "m = re.findall(\"\\w+\",\"\u00bfC\u00f3mo te llamas?\")\n",
      "print m\n",
      "m = re.findall(\"[0-9a-zA-Z\u00f3]+\",\"\u00bfC\u00f3mo te llamas?\")  #can throw additional characters into the set, doesn't have to be a range\n",
      "print m"
     ],
     "language": "python",
     "metadata": {},
     "outputs": [
      {
       "output_type": "stream",
       "stream": "stdout",
       "text": [
        "['C', 'mo', 'te', 'llamas']\n",
        "['C', 'mo', 'te', 'llamas']\n",
        "['C\\xc3\\xb3mo', 'te', 'llamas']\n"
       ]
      }
     ],
     "prompt_number": 8
    },
    {
     "cell_type": "markdown",
     "metadata": {},
     "source": [
      "\n",
      "\n",
      "Let's just look for the number of llamas everyone has."
     ]
    },
    {
     "cell_type": "code",
     "collapsed": false,
     "input": [
      "m = re.findall(\"\\d+\\s*\\w+\", sentence)\n",
      "print sentence\n",
      "print m"
     ],
     "language": "python",
     "metadata": {},
     "outputs": [
      {
       "output_type": "stream",
       "stream": "stdout",
       "text": [
        "The girls have 12 llamas, but the 4 boys only have 5 llamas. I have 12 alpacas, but I want a llama.\n",
        "['12 llamas', '4 boys', '5 llamas', '12 alpacas']\n"
       ]
      }
     ],
     "prompt_number": 9
    },
    {
     "cell_type": "markdown",
     "metadata": {},
     "source": [
      "Too broad! We don't care about alpacas or boys. We can be more specific."
     ]
    },
    {
     "cell_type": "code",
     "collapsed": false,
     "input": [
      "m = re.findall(\"\\d+\\s*llamas\", sentence)   #\"\\s\" indicates a space and \"*\" means zero or more occurences of the space\n",
      "print sentence\n",
      "print m"
     ],
     "language": "python",
     "metadata": {},
     "outputs": [
      {
       "output_type": "stream",
       "stream": "stdout",
       "text": [
        "The girls have 12 llamas, but the 4 boys only have 5 llamas. I have 12 alpacas, but I want a llama.\n",
        "['12 llamas', '5 llamas']\n"
       ]
      }
     ],
     "prompt_number": 10
    },
    {
     "cell_type": "markdown",
     "metadata": {},
     "source": [
      "How do we just pull out the numbers?\n",
      "### Capturing Groups"
     ]
    },
    {
     "cell_type": "code",
     "collapsed": false,
     "input": [
      "m = re.findall(\"(\\d+)\\s*llamas\", sentence) \n",
      "print sentence\n",
      "print m"
     ],
     "language": "python",
     "metadata": {},
     "outputs": [
      {
       "output_type": "stream",
       "stream": "stdout",
       "text": [
        "The girls have 12 llamas, but the 4 boys only have 5 llamas. I have 12 alpacas, but I want a llama.\n",
        "['12', '5']\n"
       ]
      }
     ],
     "prompt_number": 11
    },
    {
     "cell_type": "code",
     "collapsed": false,
     "input": [
      "m = re.findall(\"((\\d+)\\s*(\\w+))\", sentence)  # anything in a parenthesis will be seen as an outputting group\n",
      "print sentence\n",
      "print m"
     ],
     "language": "python",
     "metadata": {},
     "outputs": [
      {
       "output_type": "stream",
       "stream": "stdout",
       "text": [
        "The girls have 12 llamas, but the 4 boys only have 5 llamas. I have 12 alpacas, but I want a llama.\n",
        "[('12 llamas', '12', 'llamas'), ('4 boys', '4', 'boys'), ('5 llamas', '5', 'llamas'), ('12 alpacas', '12', 'alpacas')]\n"
       ]
      }
     ],
     "prompt_number": 12
    },
    {
     "cell_type": "markdown",
     "metadata": {},
     "source": [
      "#### Backreferencing\n",
      "Can refer to a previous capturing group. Let's look for the next mention of the first # of animals we find."
     ]
    },
    {
     "cell_type": "code",
     "collapsed": false,
     "input": [
      "m = re.findall(r\"(\\d+)\\s*(\\w+).+?(\\1)\\s*(\\w+)\", sentence)  # \\1 refers to the first outputting group, in this case (\\d+)\n",
      "print sentence\n",
      "print m"
     ],
     "language": "python",
     "metadata": {},
     "outputs": [
      {
       "output_type": "stream",
       "stream": "stdout",
       "text": [
        "The girls have 12 llamas, but the 4 boys only have 5 llamas. I have 12 alpacas, but I want a llama.\n",
        "[('12', 'llamas', '12', 'alpacas')]\n"
       ]
      }
     ],
     "prompt_number": 13
    },
    {
     "cell_type": "markdown",
     "metadata": {},
     "source": [
      "### Anchors\n",
      "You can anchor to things that you can't really see in the text.\n",
      "#### Line Anchors"
     ]
    },
    {
     "cell_type": "code",
     "collapsed": false,
     "input": [
      "groceries = ''' My grocery list\n",
      "12 apples (5 fuji and 7 red delicious)\n",
      "an orange\n",
      "10 bananas\n",
      "1 sponge\n",
      "2 mangoes'''\n",
      "m = re.findall(\"(\\d+)\\s*(\\w+)\", groceries)\n",
      "print m"
     ],
     "language": "python",
     "metadata": {},
     "outputs": [
      {
       "output_type": "stream",
       "stream": "stdout",
       "text": [
        "[('12', 'apples'), ('5', 'fuji'), ('7', 'red'), ('10', 'bananas'), ('1', 'sponge'), ('2', 'mangoes')]\n"
       ]
      }
     ],
     "prompt_number": 14
    },
    {
     "cell_type": "markdown",
     "metadata": {},
     "source": [
      "Can we anchor on the beginning of a line to only get the main items?"
     ]
    },
    {
     "cell_type": "code",
     "collapsed": false,
     "input": [
      "m = re.findall(\"^(\\d+)\\s*(\\w+)\", groceries)  # the ^ is a special character that means beginning of line\n",
      "print m\n",
      "m = re.findall(\"(?m)^(\\d+)\\s*(\\w+)\", groceries)  # you will need to use a multiline flag (?m) to make line anchoring work\n",
      "print m"
     ],
     "language": "python",
     "metadata": {},
     "outputs": [
      {
       "output_type": "stream",
       "stream": "stdout",
       "text": [
        "[]\n",
        "[('12', 'apples'), ('10', 'bananas'), ('1', 'sponge'), ('2', 'mangoes')]\n"
       ]
      }
     ],
     "prompt_number": 15
    },
    {
     "cell_type": "code",
     "collapsed": false,
     "input": [
      "m = re.findall(\"(\\d+)\\s*(\\w+)$\", groceries)  # the $ is a special character that means end of line\n",
      "print m\n",
      "m = re.findall(\"(?m)(\\d+)\\s*(\\w+)$\", groceries)  # you will need to use a multiline flag (?m) to make line anchoring work\n",
      "print m"
     ],
     "language": "python",
     "metadata": {},
     "outputs": [
      {
       "output_type": "stream",
       "stream": "stdout",
       "text": [
        "[('2', 'mangoes')]\n",
        "[('10', 'bananas'), ('1', 'sponge'), ('2', 'mangoes')]\n"
       ]
      }
     ],
     "prompt_number": 16
    },
    {
     "cell_type": "markdown",
     "metadata": {},
     "source": [
      "\"$\" is the equivalent for end of line.\n",
      "\n",
      "#### Boundary Markers\n",
      "Let's look for any fruit that contains \"an\"."
     ]
    },
    {
     "cell_type": "code",
     "collapsed": false,
     "input": [
      "m = re.findall(\"\\w*an\\w*\", groceries)  # will look for \"an\" possibly preceded and followed by an alphanumeric\n",
      "print m"
     ],
     "language": "python",
     "metadata": {},
     "outputs": [
      {
       "output_type": "stream",
       "stream": "stdout",
       "text": [
        "['and', 'an', 'orange', 'bananas', 'mangoes']\n"
       ]
      }
     ],
     "prompt_number": 17
    },
    {
     "cell_type": "markdown",
     "metadata": {},
     "source": [
      "I don't want \"and\" and \"an\". How can I stop them?"
     ]
    },
    {
     "cell_type": "code",
     "collapsed": false,
     "input": [
      "m = re.findall(r\"\\ban\\w*\", groceries)  # will look for word boundary\n",
      "print m\n",
      "m = re.findall(\"\\ban\\w*\", groceries)  # returns none. Word boundaries do not work in python if regex is not a \"raw\" string\n",
      "print m\n",
      "m = re.findall(r\"\\Ban\\w*\", groceries)  # will look for opposite of word boundary, note that it does not eat up a character\n",
      "print m\n",
      "\n",
      "m = re.findall(r\"[\\B\\w]+an\\w*\", groceries)  # can include a \\w to get beginning of word\n",
      "print m"
     ],
     "language": "python",
     "metadata": {},
     "outputs": [
      {
       "output_type": "stream",
       "stream": "stdout",
       "text": [
        "['and', 'an']\n",
        "[]\n",
        "['ange', 'ananas', 'angoes']\n",
        "['orange', 'bananas', 'mangoes']\n"
       ]
      }
     ],
     "prompt_number": 18
    },
    {
     "cell_type": "markdown",
     "metadata": {},
     "source": [
      "### Getting the right level of Specificity\n",
      "#### Some more practice\n",
      "A regular expression can be extremely specific, or extremely abstract, or anywhere in between. \n",
      "\n",
      "For example, let's say we want to find the year in this sentence:"
     ]
    },
    {
     "cell_type": "code",
     "collapsed": false,
     "input": [
      "sentences = \"On February 26th, 2015, around 1400h, 2 llamas went for a run. ~1200056740 people were watching them.\"\n",
      "def find_all(regex, string):\n",
      "    m = re.findall(regex, string) # the regex goes on the left, the target string on the right\n",
      "    if m:\n",
      "        print m\n",
      "    else:\n",
      "        print \"nothing found\"\n",
      "\n",
      "find_all(\"\\d+\", sentences) # the \\d stands for a digit, and the '+' means 1 or more occurences of the preceding character\n",
      "find_all(\"[0-9]+\", sentences) # [0-9] is a range of numbers, essentially equivalent to \\d\n"
     ],
     "language": "python",
     "metadata": {},
     "outputs": [
      {
       "output_type": "stream",
       "stream": "stdout",
       "text": [
        "['26', '2015', '1400', '2', '1200056740']\n",
        "['26', '2015', '1400', '2', '1200056740']\n"
       ]
      }
     ],
     "prompt_number": 19
    },
    {
     "cell_type": "markdown",
     "metadata": {},
     "source": [
      "That's returning too much... Let's narrow this down. What do we know about a year? \n",
      "\n",
      "The years we're looking for are generally 4 digits."
     ]
    },
    {
     "cell_type": "code",
     "collapsed": false,
     "input": [
      "find_all(\"\\d{4}\", sentences) # {4} means there has to be 4 occurences of the type of character that precedes it, any digit\n",
      "# can also use as an open range, e.g. \\d{4,} would mean 4 or more numbers, so 200 would not match."
     ],
     "language": "python",
     "metadata": {},
     "outputs": [
      {
       "output_type": "stream",
       "stream": "stdout",
       "text": [
        "['2015', '1400', '1200', '0567']\n"
       ]
      }
     ],
     "prompt_number": 20
    },
    {
     "cell_type": "markdown",
     "metadata": {},
     "source": [
      "Still too much, let's make it slightly more specific. The years we care about probably start with \"20\", maybe even \"19\"."
     ]
    },
    {
     "cell_type": "code",
     "collapsed": false,
     "input": [
      "find_all(\"(?:20|19)\\d{2}\", sentences)  # the | indicates alternation, an OR"
     ],
     "language": "python",
     "metadata": {},
     "outputs": [
      {
       "output_type": "stream",
       "stream": "stdout",
       "text": [
        "['2015', '2000']\n"
       ]
      }
     ],
     "prompt_number": 21
    },
    {
     "cell_type": "markdown",
     "metadata": {},
     "source": [
      "Where is that 2000 coming from?"
     ]
    },
    {
     "cell_type": "code",
     "collapsed": false,
     "input": [
      "print sentences\n",
      "find_all(\"\\s(?:20|19)\\d{2}\\D\", sentences) # must be followed by a non-digit. There are a number of ways to do this.\n",
      "find_all(\"\\s(?:20|19)\\d{2}[\\,\\s]\", sentences) # must be followed by a comma or a space"
     ],
     "language": "python",
     "metadata": {},
     "outputs": [
      {
       "output_type": "stream",
       "stream": "stdout",
       "text": [
        "On February 26th, 2015, around 1400h, 2 llamas went for a run. ~1200056740 people were watching them.\n",
        "[' 2015,']\n",
        "[' 2015,']\n"
       ]
      }
     ],
     "prompt_number": 22
    },
    {
     "cell_type": "markdown",
     "metadata": {},
     "source": [
      "That's fine, but how do we clean that comma and space out?"
     ]
    },
    {
     "cell_type": "code",
     "collapsed": false,
     "input": [
      "find_all(\"\\s((?:20|19)\\d{2})\\D\", sentences) # add a capturing group to only the text that you care about"
     ],
     "language": "python",
     "metadata": {},
     "outputs": [
      {
       "output_type": "stream",
       "stream": "stdout",
       "text": [
        "['2015']\n"
       ]
      }
     ],
     "prompt_number": 23
    },
    {
     "cell_type": "markdown",
     "metadata": {},
     "source": [
      "### ReGex \n",
      "Ok let's see if we can prove my theory about the pronunciation of regex based off of other words"
     ]
    },
    {
     "cell_type": "code",
     "collapsed": false,
     "input": [
      "import nltk\n",
      "nltk.download()"
     ],
     "language": "python",
     "metadata": {},
     "outputs": [
      {
       "output_type": "stream",
       "stream": "stdout",
       "text": [
        "showing info http://nltk.github.com/nltk_data/\n"
       ]
      },
      {
       "metadata": {},
       "output_type": "pyout",
       "prompt_number": 24,
       "text": [
        "True"
       ]
      }
     ],
     "prompt_number": 24
    },
    {
     "cell_type": "markdown",
     "metadata": {},
     "source": [
      "Download the brown corpus for a giant word list to look at."
     ]
    },
    {
     "cell_type": "code",
     "collapsed": false,
     "input": [
      "print len(nltk.corpus.brown.words())"
     ],
     "language": "python",
     "metadata": {},
     "outputs": [
      {
       "output_type": "stream",
       "stream": "stdout",
       "text": [
        "1161192\n"
       ]
      }
     ],
     "prompt_number": 25
    },
    {
     "cell_type": "code",
     "collapsed": false,
     "input": [
      "words = []\n",
      "for word in nltk.corpus.brown.words():\n",
      "    if re.search(\"ege\", word):\n",
      "        words.append(word)\n",
      "words = set(words)\n",
      "print sorted(words)"
     ],
     "language": "python",
     "metadata": {},
     "outputs": [
      {
       "output_type": "stream",
       "stream": "stdout",
       "text": [
        "[u'Aegean', u'Bruegel', u'Carnegey', u'College', u\"College's\", u'Evegeni', u'Exegete', u'Hartweger', u'Hegel', u\"Hegel's\", u'Hegelian', u'Leger', u'Legers', u\"Lueger's\", u'Regency', u'Siege', u'Tuskegee', u'Vegetables', u'Voegelin', u'Wegener', u'all-college', u'allege', u'alleged', u'allegedly', u'beget', u'besiege', u'besieged', u'besiegers', u'college', u\"college's\", u'college-educated', u'college-oriented', u'colleges', u'cortege', u'degenerated', u'degeneration', u'gegenschein', u'hegemony', u'integer', u'integers', u'legend', u'legendary', u'legends', u'miscegenation', u'non-college', u'privilege', u'privileged', u'privileges', u'protege', u'regenerates', u'regenerating', u'regeneration', u'regents', u'sacrilege', u'siege', u'underprivileged', u'vegetable', u'vegetables', u'vegetarian', u'vegetation', u'vice-regent']\n"
       ]
      }
     ],
     "prompt_number": 26
    },
    {
     "cell_type": "markdown",
     "metadata": {},
     "source": [
      "Maybe we can look for only \"ege\" preceded by conosonants at the start of a word?"
     ]
    },
    {
     "cell_type": "code",
     "collapsed": false,
     "input": [
      "vowels = \"aeiouy\"\n",
      "words = []\n",
      "consonants = \"(?i)[^\" + vowels + \"]+\"  #negating the set of vowels \n",
      "for word in nltk.corpus.brown.words():\n",
      "    if re.search(\"^\"+ consonants + \"ege\\w\", word):\n",
      "        words.append(word)\n",
      "words = set(words)\n",
      "print sorted(words)"
     ],
     "language": "python",
     "metadata": {},
     "outputs": [
      {
       "output_type": "stream",
       "stream": "stdout",
       "text": [
        "[u'Hegel', u\"Hegel's\", u'Hegelian', u'Leger', u'Legers', u'Regency', u'Vegetables', u'Wegener', u'beget', u'degenerated', u'degeneration', u'gegenschein', u'hegemony', u'legend', u'legendary', u'legends', u'regenerates', u'regenerating', u'regeneration', u'regents', u'vegetable', u'vegetables', u'vegetarian', u'vegetation']\n"
       ]
      }
     ],
     "prompt_number": 27
    },
    {
     "cell_type": "markdown",
     "metadata": {},
     "source": [
      "Sigh... Let's just look for \"rege\""
     ]
    },
    {
     "cell_type": "code",
     "collapsed": false,
     "input": [
      "words = []\n",
      "for word in nltk.corpus.brown.words():\n",
      "    if re.search(\"rege\", word):\n",
      "        words.append(word)\n",
      "words = set(words)\n",
      "print sorted(words)"
     ],
     "language": "python",
     "metadata": {},
     "outputs": [
      {
       "output_type": "stream",
       "stream": "stdout",
       "text": [
        "[u'regenerates', u'regenerating', u'regeneration', u'regents', u'vice-regent']\n"
       ]
      }
     ],
     "prompt_number": 28
    },
    {
     "cell_type": "markdown",
     "metadata": {},
     "source": [
      "This doesn't really help my theory... but I'm sticking to what I said."
     ]
    },
    {
     "cell_type": "markdown",
     "metadata": {},
     "source": [
      "## Links to my Favorite Regex Stuff\n",
      "[Regex Golf the game](https://regex.alf.nu/) - Based off of the [xkcd](http://xkcd.com/1313/) - can spend hours on this\n",
      "\n",
      "[Notebook for automatically generating regexes](http://nbviewer.ipython.org/url/norvig.com/ipython/xkcd1313.ipynb?create=1) - Also based off the xkcd\n",
      "\n",
      "http://www.regular-expressions.info/ A good reference for explaining some more advanced concepts.\n",
      "\n",
      "[Parsing HTML with Regex](http://stackoverflow.com/questions/1732348/regex-match-open-tags-except-xhtml-self-contained-tags/1732454#1732454) A classic stackoverflow answer about why you shouldn't try to parse html with regex.\n",
      "\n",
      "[Now you have two problems](http://programmers.stackexchange.com/questions/223634/what-is-meant-by-now-you-have-two-problems) - Explanation of a famous quote about regex."
     ]
    }
   ],
   "metadata": {}
  }
 ]
}
