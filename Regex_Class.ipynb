{
 "metadata": {
  "name": "",
  "signature": "sha256:2bb2933fbbcb749f648c5cb7597e2cde3a0daabb2f253ab2b46459702e4d654f"
 },
 "nbformat": 3,
 "nbformat_minor": 0,
 "worksheets": [
  {
   "cells": [
    {
     "cell_type": "markdown",
     "metadata": {},
     "source": [
      "# Regular Expressions\n",
      "### What are regular expressions?\n",
      "\n",
      "http://en.wikipedia.org/wiki/Regular_expression\n",
      "\n",
      "\n",
      "Regex (pronounced _G_ not _J_! If you say _rejex_ you are dead to me) is a type of syntactic expression that is used to do **pattern matching** in strings.\n",
      "\n",
      "A useful tool for visualizing how these matches look: [Regexr](http://www.regexr.com/)\n",
      "\n",
      "### So How do we use them in Python?\n",
      "First..."
     ]
    },
    {
     "cell_type": "code",
     "collapsed": false,
     "input": [
      "import re"
     ],
     "language": "python",
     "metadata": {},
     "outputs": []
    },
    {
     "cell_type": "markdown",
     "metadata": {},
     "source": [
      "### Okay that's just a module, so what do regexes look like?\n",
      "A regular expression can be extremely specific, or extremely abstract, or anywhere in between. \n",
      "\n",
      "For example, let's say we want to find the year in this sentence:"
     ]
    },
    {
     "cell_type": "code",
     "collapsed": false,
     "input": [
      "sentences = \"On February 26th, 2015, around 1400h, 2 llamas went for a run. ~200056740 people were watching them.\"\n",
      "def find_all(regex, string):\n",
      "    m = re.findall(regex, string) # the regex goes on the left, the target string on the right\n",
      "    if m:\n",
      "        print m\n",
      "    else:\n",
      "        print \"nothing found\"\n",
      "\n",
      "find_all(\"\\d+\", sentences) # the \\d stands for a digit, and the '+' means 1 or more occurences of the preceding character\n",
      "find_all(\"[0-9]+\", sentences) # [0-9] is a range of numbers, essentially equivalent to \\d\n"
     ],
     "language": "python",
     "metadata": {},
     "outputs": [
      {
       "output_type": "stream",
       "stream": "stdout",
       "text": [
        "['26', '2015', '1400', '2', '200056740']\n",
        "['26', '2015', '1400', '2', '200056740']\n"
       ]
      }
     ],
     "prompt_number": 52
    },
    {
     "cell_type": "markdown",
     "metadata": {},
     "source": [
      "That's returning too much... Let's narrow this down. What do we know about a year? \n",
      "\n",
      "The years we're looking for are generally 4 digits."
     ]
    },
    {
     "cell_type": "code",
     "collapsed": false,
     "input": [
      "find_all(\"\\d{4}\", sentences)"
     ],
     "language": "python",
     "metadata": {},
     "outputs": [
      {
       "output_type": "stream",
       "stream": "stdout",
       "text": [
        "['2015', '1400', '2000', '5674']\n"
       ]
      }
     ],
     "prompt_number": 53
    },
    {
     "cell_type": "markdown",
     "metadata": {},
     "source": [
      "Still too much, let's make it slightly more specific. The years we care about probably start with \"20\", maybe even \"19\"."
     ]
    },
    {
     "cell_type": "code",
     "collapsed": false,
     "input": [
      "find_all(\"(?:20|19)\\d{2}\", sentences)"
     ],
     "language": "python",
     "metadata": {},
     "outputs": [
      {
       "output_type": "stream",
       "stream": "stdout",
       "text": [
        "['2015', '2000']\n"
       ]
      }
     ],
     "prompt_number": 56
    },
    {
     "cell_type": "markdown",
     "metadata": {},
     "source": [
      "Where is that 2000 coming from?"
     ]
    },
    {
     "cell_type": "code",
     "collapsed": false,
     "input": [
      "find_all(\"(?:20|19)\\d{2}\\D\", sentences) # must be followed by a non-digit. There are a number of ways to do this."
     ],
     "language": "python",
     "metadata": {},
     "outputs": [
      {
       "output_type": "stream",
       "stream": "stdout",
       "text": [
        "['2015,']\n"
       ]
      }
     ],
     "prompt_number": 75
    },
    {
     "cell_type": "code",
     "collapsed": false,
     "input": [
      "print sentences"
     ],
     "language": "python",
     "metadata": {},
     "outputs": [
      {
       "output_type": "stream",
       "stream": "stdout",
       "text": [
        "On February 26th, 2015, around 1400h, 2 llamas went for a run. ~200056740 people were watching them.\n"
       ]
      }
     ],
     "prompt_number": 58
    },
    {
     "cell_type": "markdown",
     "metadata": {},
     "source": [
      "If we look for word boundaries, we can stop it from capturing from the larger number. "
     ]
    },
    {
     "cell_type": "code",
     "collapsed": false,
     "input": [
      "import nltk\n",
      "nltk.download()"
     ],
     "language": "python",
     "metadata": {},
     "outputs": []
    },
    {
     "cell_type": "code",
     "collapsed": false,
     "input": [
      "print len(nltk.corpus.brown.words())"
     ],
     "language": "python",
     "metadata": {},
     "outputs": [
      {
       "output_type": "stream",
       "stream": "stdout",
       "text": [
        "1161192\n"
       ]
      }
     ],
     "prompt_number": 4
    },
    {
     "cell_type": "code",
     "collapsed": false,
     "input": [
      "words = []\n",
      "for word in nltk.corpus.brown.words():\n",
      "    if re.search(\"\\wege\\w\", word):\n",
      "        words.append(word)\n",
      "words = set(words)\n",
      "print sorted(words)"
     ],
     "language": "python",
     "metadata": {},
     "outputs": [
      {
       "output_type": "stream",
       "stream": "stdout",
       "text": [
        "[u'Aegean', u'Bruegel', u'Carnegey', u'Evegeni', u'Exegete', u'Hartweger', u'Hegel', u\"Hegel's\", u'Hegelian', u'Leger', u'Legers', u\"Lueger's\", u'Regency', u'Tuskegee', u'Vegetables', u'Voegelin', u'Wegener', u'alleged', u'allegedly', u'beget', u'besieged', u'besiegers', u'colleges', u'degenerated', u'degeneration', u'gegenschein', u'hegemony', u'integer', u'integers', u'legend', u'legendary', u'legends', u'miscegenation', u'privileged', u'privileges', u'regenerates', u'regenerating', u'regeneration', u'regents', u'underprivileged', u'vegetable', u'vegetables', u'vegetarian', u'vegetation', u'vice-regent']\n"
       ]
      }
     ],
     "prompt_number": 11
    },
    {
     "cell_type": "code",
     "collapsed": false,
     "input": [
      "vowels = \"aeiouy\"\n",
      "words = []\n",
      "consonants = \"[^\" + vowels + \"]+\"\n",
      "for word in nltk.corpus.brown.words():\n",
      "    if re.search(\"^\"+ consonants + \"ege\", word):\n",
      "        words.append(word)\n",
      "words = set(words)\n",
      "print sorted(words)"
     ],
     "language": "python",
     "metadata": {},
     "outputs": [
      {
       "output_type": "stream",
       "stream": "stdout",
       "text": [
        "[u'Aegean', u'Evegeni', u'Exegete', u'Hegel', u\"Hegel's\", u'Hegelian', u'Leger', u'Legers', u'Regency', u'Vegetables', u'Wegener', u'beget', u'degenerated', u'degeneration', u'gegenschein', u'hegemony', u'legend', u'legendary', u'legends', u'regenerates', u'regenerating', u'regeneration', u'regents', u'vegetable', u'vegetables', u'vegetarian', u'vegetation']\n"
       ]
      }
     ],
     "prompt_number": 10
    },
    {
     "cell_type": "code",
     "collapsed": false,
     "input": [
      "words = []\n",
      "for word in nltk.corpus.brown.words():\n",
      "    if re.search(\"rege\", word):\n",
      "        words.append(word)\n",
      "words = set(words)\n",
      "print sorted(words)"
     ],
     "language": "python",
     "metadata": {},
     "outputs": [
      {
       "output_type": "stream",
       "stream": "stdout",
       "text": [
        "[u'regenerates', u'regenerating', u'regeneration', u'regents', u'vice-regent']\n"
       ]
      }
     ],
     "prompt_number": 77
    },
    {
     "cell_type": "markdown",
     "metadata": {},
     "source": [
      "This doesn't really help my theory... but I'm sticking to my earlier claim."
     ]
    }
   ],
   "metadata": {}
  }
 ]
}