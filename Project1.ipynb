{
 "metadata": {
  "name": "",
  "signature": "sha256:6c8ebc84aea4ae71cbe7866812c858ead88d2d5be4fb25a99b8e0565f5de3325"
 },
 "nbformat": 3,
 "nbformat_minor": 0,
 "worksheets": [
  {
   "cells": [
    {
     "cell_type": "markdown",
     "metadata": {},
     "source": [
      "### Where am I?"
     ]
    },
    {
     "cell_type": "code",
     "collapsed": false,
     "input": [
      "%pwd"
     ],
     "language": "python",
     "metadata": {},
     "outputs": [
      {
       "metadata": {},
       "output_type": "pyout",
       "prompt_number": 1,
       "text": [
        "u'/home/sally/projects/ga_assignments/Songs'"
       ]
      }
     ],
     "prompt_number": 1
    },
    {
     "cell_type": "markdown",
     "metadata": {},
     "source": [
      "### Initialize some libraries"
     ]
    },
    {
     "cell_type": "code",
     "collapsed": false,
     "input": [
      "#!/usr/bin/env python\n",
      "%pylab inline\n",
      "import os"
     ],
     "language": "python",
     "metadata": {},
     "outputs": [
      {
       "output_type": "stream",
       "stream": "stdout",
       "text": [
        "Populating the interactive namespace from numpy and matplotlib\n"
       ]
      }
     ],
     "prompt_number": 2
    },
    {
     "cell_type": "code",
     "collapsed": false,
     "input": [
      "%cd 'MSongsDB/PythonSrc/'\n",
      "import hdf5_getters as getters\n",
      "import tables"
     ],
     "language": "python",
     "metadata": {},
     "outputs": [
      {
       "output_type": "stream",
       "stream": "stdout",
       "text": [
        "/home/sally/projects/ga_assignments/Songs/MSongsDB/PythonSrc\n"
       ]
      }
     ],
     "prompt_number": 3
    },
    {
     "cell_type": "markdown",
     "metadata": {},
     "source": [
      "### Look through the MSD Subset folders to get the song files for parsing"
     ]
    },
    {
     "cell_type": "code",
     "collapsed": false,
     "input": [
      "%cd ../../\n",
      "%pwd\n",
      "data_dir = 'MillionSongSubset/data/'\n",
      "dirs = os.listdir(data_dir)\n",
      "data_sets = {}\n",
      "files = {}\n",
      "for dir in dirs:\n",
      "    data_sets[data_dir + dir] = os.listdir(data_dir + dir)\n",
      "file_paths_all = []\n",
      "for key, vals in data_sets.iteritems():\n",
      "    for val in vals:\n",
      "        for folder in os.listdir(key + '/' + val):\n",
      "            path = key + '/' + val + '/' + folder\n",
      "            file_paths = []\n",
      "            for f in os.listdir(path):\n",
      "                file_paths.append(path + '/' + f)\n",
      "                file_paths_all.append(path + '/' + f)\n",
      "            files[path] = file_paths\n",
      "            #print path, \"\\nFiles:\",  os.listdir(path) \n",
      "print \"Number of songs in MSD subset for analysis:\",len(file_paths_all)\n"
     ],
     "language": "python",
     "metadata": {},
     "outputs": [
      {
       "output_type": "stream",
       "stream": "stdout",
       "text": [
        "/home/sally/projects/ga_assignments/Songs\n",
        "Number of songs in MSD subset for analysis: 10000\n"
       ]
      }
     ],
     "prompt_number": 4
    },
    {
     "cell_type": "markdown",
     "metadata": {},
     "source": [
      "## Parse through all song files (.h5 files) to get track info"
     ]
    },
    {
     "cell_type": "code",
     "collapsed": false,
     "input": [
      "import pandas as pd\n",
      "i = 1\n",
      "print file_paths_all[0]\n",
      "df = pd.DataFrame(columns=('Artist', 'Title', 'Year'))\n",
      "for h5_file_name in file_paths_all:\n",
      "    h5 = getters.open_h5_file_read(h5_file_name)\n",
      "    if h5.root:\n",
      "        try:\n",
      "            print i, getters.get_artist_name(h5),\",\", getters.get_title(h5), \",\", getters.get_year(h5), \",\", getters.get_track_id(h5) \n",
      "            i+=1\n",
      "            if i > 100:\n",
      "                break\n",
      "        except:\n",
      "            print \"something is up with\", h5_file_name\n",
      "    h5.close()    \n",
      "        "
     ],
     "language": "python",
     "metadata": {},
     "outputs": [
      {
       "output_type": "stream",
       "stream": "stdout",
       "text": [
        "MillionSongSubset/data/A/E/E/TRAEEOQ128F9309BC0.h5\n",
        "1 Gloria De Haven , Diamonds Are A Girl's Best Friend , 0 , TRAEEOQ128F9309BC0\n",
        "2 Sticky Fingaz & Omar Epps , Don't Owe Me Nothin' , 0 , TRAEELW128F933D255\n",
        "3 "
       ]
      },
      {
       "output_type": "stream",
       "stream": "stdout",
       "text": [
        "Choir & Great Symphony Orchestra of the All-Union Radio_ N. Shpiller_ S. Krassovsky_ V. Gagarina & N , Requiem Mass_ K. 626_ 1791: Agnus Dei (Larghetto) (Mozart) , 0 , TRAEEBP128EF3673A7\n",
        "4 Chris Farlowe , Paint It Black , 1966 , TRAEEGO12903CF7D27\n",
        "5 "
       ]
      },
      {
       "output_type": "stream",
       "stream": "stdout",
       "text": [
        "Avril , The Matter With You (Part I_ Ii_ Iii) , 2000 , TRAEELO128F425BD8F\n",
        "6 Delbert McClinton , Lose Your Money , 2000 , "
       ]
      },
      {
       "output_type": "stream",
       "stream": "stdout",
       "text": [
        "TRAEEMP128F92F4B9C\n",
        "7 Elva Hsiao , Gotta Let It Go , 0 , TRAEEGA128F4272FF8\n",
        "8 The Party Group , El Ventilador , 0 , "
       ]
      },
      {
       "output_type": "stream",
       "stream": "stdout",
       "text": [
        "TRAEAVH128F4270D4C\n",
        "9 Aerosmith , Lord Of The Thighs , 1974 , TRAEATL128F42690A7\n",
        "10 Charlotte Gainsbourg , Tel Que Tu Es , 2006 , "
       ]
      },
      {
       "output_type": "stream",
       "stream": "stdout",
       "text": [
        "TRAEASY128F148247C\n",
        "11 Joe Turner , Here Comes Your Iceman (LP Version) , 0 , TRAEADE128F423BEF8\n",
        "12 Chris Farlowe , I Just Need Your Lovin' - Original , 0 , "
       ]
      },
      {
       "output_type": "stream",
       "stream": "stdout",
       "text": [
        "TRAEACU128F933D7C1\n",
        "13 Agnes , Non Conformist Acclaimed , 0 , TRAEATZ128F426E5C8\n",
        "14 David Bowie , Space Oddity (1997 Digital Remaster) , 0 , "
       ]
      },
      {
       "output_type": "stream",
       "stream": "stdout",
       "text": [
        "TRAEARU128E0781A02\n",
        "15 DeGarmo & Key , He Has Risen (Communication Album Version) , 0 , TRAEAEV128F1493757\n",
        "16 Porcupine Tree , Moon Loop (Improvisation) , "
       ]
      },
      {
       "output_type": "stream",
       "stream": "stdout",
       "text": [
        "0 , TRAEADK128F4270AA6\n",
        "17 Bone Thugs-N-Harmony , Fearless [Interlude] (Explicit Album Version) , 0 , TRAEASB12903CD48BC\n",
        "18 "
       ]
      },
      {
       "output_type": "stream",
       "stream": "stdout",
       "text": [
        "Klaus Badelt , After The Fire , 2007 , TRAEAST128F42931B1\n",
        "19 Furry Lewis , Old Hobo , 2003 , TRAEABT128F931984D\n",
        "20 "
       ]
      },
      {
       "output_type": "stream",
       "stream": "stdout",
       "text": [
        "Enter the Haggis , Skyswimmer , 1999 , TRAEAZV12903D0CBA6\n",
        "21 Frank Chacksfield , Heidi , 0 , "
       ]
      },
      {
       "output_type": "stream",
       "stream": "stdout",
       "text": [
        "TRAEALX12903CB5701\n",
        "22 Fun Lovin' Criminals , We Have All The Time In The World (Live) , 0 , TRAEFWP128F4238373\n",
        "23 Bessie Smith , Cold In Hands Blues , 0 , "
       ]
      },
      {
       "output_type": "stream",
       "stream": "stdout",
       "text": [
        "TRAEFJG128F9325FE4\n",
        "24 MC5 , Miss X (LP Version) , 1971 , TRAEFON128E078C6F8\n",
        "25 Tommy Torres , Imparable , 0 , "
       ]
      },
      {
       "output_type": "stream",
       "stream": "stdout",
       "text": [
        "TRAEFOU128F932105B\n",
        "26 Washboard Sam , Bucket's Got A Hole In It , 0 , TRAEFQG128F429F74E\n",
        "27 Tammy Wynette , Welcome To My World (Live) , 0 , "
       ]
      },
      {
       "output_type": "stream",
       "stream": "stdout",
       "text": [
        "TRAEFUS12903CC2779\n",
        "28 Les Malpolis , Les Amours de Nathalie , 1998 , TRAEFPN128F930BD07\n",
        "29 Shirley Caesar , Angels We Have Heard On High (Album Version) , 0 , TRAEFTR128F429A360\n",
        "30"
       ]
      },
      {
       "output_type": "stream",
       "stream": "stdout",
       "text": [
        " Los Chunguitos , Por La Calle Abajo , 2000 , TRAEFYR128F4268253\n",
        "31 The Impressions , This Is My Country , 1968 , TRAEFDK128F1473B92\n",
        "32 "
       ]
      },
      {
       "output_type": "stream",
       "stream": "stdout",
       "text": [
        "Rhian Benson , Say How I Feel , 2004 , TRAEFDB128E0783952\n",
        "33 Martin Denny , Burma Train Change , 0 , TRAEDCT12903CD9238\n",
        "34 DJ Nasty , "
       ]
      },
      {
       "output_type": "stream",
       "stream": "stdout",
       "text": [
        "Buy You A Drink , 0 , TRAEDDD12903CCF7E7\n",
        "35 Santana , With A Little Help From My Friends , 0 , "
       ]
      },
      {
       "output_type": "stream",
       "stream": "stdout",
       "text": [
        "TRAEDJJ128F426A526\n",
        "36 Shaman , For Tomorrow (live) , 0 , TRAEDXO128F421B908\n",
        "37 Dine et D\u00e9on , G\u00e9raldine , 0 , "
       ]
      },
      {
       "output_type": "stream",
       "stream": "stdout",
       "text": [
        "TRAEDAH12903D05A77\n",
        "38 Ray Sandoval , A La Naturaleza , 0 , TRAEDJW128F422B4CB\n",
        "39 "
       ]
      },
      {
       "output_type": "stream",
       "stream": "stdout",
       "text": [
        "Amalia Avgoustaki , Dimitroula , 0 , TRAEDPP128F42AFB64\n",
        "40 K-OS , Clap Ur Handz , 2004 , TRAEDYD128F425A868\n",
        "41 "
       ]
      },
      {
       "output_type": "stream",
       "stream": "stdout",
       "text": [
        "DCS , Tu Hi Tu Sada , 0 , TRAEOED128EF36659C\n",
        "42 Kraftwerk , Computer Love (2009 Digital Remaster) , 0 , "
       ]
      },
      {
       "output_type": "stream",
       "stream": "stdout",
       "text": [
        "TRAEOFD128F9311409\n",
        "43 Sick Puppies , Master Of The Universe , 2009 , TRAEOUE128F93187B9\n",
        "44 FFH , Great Big Problem , 2005 , "
       ]
      },
      {
       "output_type": "stream",
       "stream": "stdout",
       "text": [
        "TRAEOGO128F93302B9\n",
        "45 Gran Coquivacoa , Son Sabroso , 0 , TRAEOPH128F932E302\n",
        "46 "
       ]
      },
      {
       "output_type": "stream",
       "stream": "stdout",
       "text": [
        "James Newton Howard , The Burp Heard 'Round The World , 2010 , TRAEOVG12903CEDD3A\n",
        "47 Bill & Gloria Gaither , He Will Lead His Children Home , 0 , "
       ]
      },
      {
       "output_type": "stream",
       "stream": "stdout",
       "text": [
        "TRAEOHK128F932F77A\n",
        "48 Willie Clancy , Air: My Lagan Love , 0 , TRAEOIC12903D05C54\n",
        "49 Chris Clark , Tyre , 0 , "
       ]
      },
      {
       "output_type": "stream",
       "stream": "stdout",
       "text": [
        "TRAEOMT128F92FE852\n",
        "50 Andreas Dorau , Das Telefon sagt Du , 1994 , TRAEOUM128F42915ED\n",
        "51 GWAR , Let's Blame The Lightman , 1997 , "
       ]
      },
      {
       "output_type": "stream",
       "stream": "stdout",
       "text": [
        "TRAEOOH128F934ACD4\n",
        "52 Gabinete Caligari , Viaje Al Averno , 1991 , TRAEOUQ128F9322E73\n",
        "53 Placebo , Hardly Wait , 2009 , "
       ]
      },
      {
       "output_type": "stream",
       "stream": "stdout",
       "text": [
        "TRAEOBA12903CAFAB0\n",
        "54 The Sun Harbor's Chorus-Documentary Recordings , America the Beautiful , 0 , TRAEOAW128F4280F8E\n",
        "55 "
       ]
      },
      {
       "output_type": "stream",
       "stream": "stdout",
       "text": [
        "Singing Melody , Someone To Hold , 0 , TRAEOGF128F423896A\n",
        "56 Muse , Exogenesis: Symphony Part 1 [Overture] , 0 , "
       ]
      },
      {
       "output_type": "stream",
       "stream": "stdout",
       "text": [
        "TRAEOFB12903CB7900\n",
        "57 Gary Nichols , Paper Doll , 0 , TRAEOUJ128EF352F8B\n",
        "58 NOFX , My Heart Is Yearning , 1994 , "
       ]
      },
      {
       "output_type": "stream",
       "stream": "stdout",
       "text": [
        "TRAEOMS128F4262357\n",
        "59 Twila Paris , We Will Glorify (Key-B-Db-Premiere Performance Plus) , 0 , TRAERQB128F932563F\n",
        "60 Memphis La Blusera , La Revoluci\u00f3n , 1995 , TRAEROM12903CB2814\n",
        "61"
       ]
      },
      {
       "output_type": "stream",
       "stream": "stdout",
       "text": [
        " Butthole Surfers , All Day , 1987 , TRAERNN12903CEABCE\n",
        "62 The Michael Stanley Band , Waste A Little Time On Me , 1975 , TRAERST128F4267A39\n",
        "63 "
       ]
      },
      {
       "output_type": "stream",
       "stream": "stdout",
       "text": [
        "Pepper , Stormtrooper (Live) , 2009 , TRAEROB12903CE3E7D\n",
        "64 Bob Carlisle , Man Of No Reputation , 1994 , TRAERST128F4266F90\n",
        "65 "
       ]
      },
      {
       "output_type": "stream",
       "stream": "stdout",
       "text": [
        "Various Indian Tribes , Mountain By The Sea (Tribe Unknown) , 0 , TRAERCO128F4222C43\n",
        "66 Mariano Yanani , Air_ Siote No. 3 (J.S. Bach) , 0 , TRAERUT128F429B075\n",
        "67 "
       ]
      },
      {
       "output_type": "stream",
       "stream": "stdout",
       "text": [
        "The Rolling Stones , Time Is On My Side , 1964 , TRAERPT128F931103E\n",
        "68 Anat Ben David , Moon Boom , 0 , TRAERMS128F427EC54\n",
        "69 One Block Radius , All On Our Own , "
       ]
      },
      {
       "output_type": "stream",
       "stream": "stdout",
       "text": [
        "2008 , TRAERAC128F92E0186\n",
        "70 Timo Maas , Bad Days , 2001 , TRAERCU128F42660A2\n",
        "71 "
       ]
      },
      {
       "output_type": "stream",
       "stream": "stdout",
       "text": [
        "Nana Caymmi , Nossa Dan\u00e7a , 0 , TRAERFO128F1481BBE\n",
        "72 Boondox , Nothing To Lose , 2010 , TRAEMGG12903CEBB52\n",
        "73 "
       ]
      },
      {
       "output_type": "stream",
       "stream": "stdout",
       "text": [
        "Aerosmith , Angel , 1987 , TRAEMNZ128F9334662\n",
        "74 Michael Bloomfield , Let the People Dance , 0 , TRAEMKJ12903C9D211\n",
        "75 "
       ]
      },
      {
       "output_type": "stream",
       "stream": "stdout",
       "text": [
        "Rene Touzet , Mi Son Maracaibo , 0 , TRAEMRI128F425F33D\n",
        "76 Bill Laswell , Don't Lose Control , 0 , "
       ]
      },
      {
       "output_type": "stream",
       "stream": "stdout",
       "text": [
        "TRAEMTU128EF363016\n",
        "77 Free , Broad Daylight - The BBC Sessions [Top Gear 17/3/69] , 0 , TRAEMZW128F148406D\n",
        "78 Maurane , Juste Une Petite Fille , 1995 , TRAEMGL128F4266177\n",
        "79 "
       ]
      },
      {
       "output_type": "stream",
       "stream": "stdout",
       "text": [
        "Los Chichos , El Te Daba Mala Vida , 1982 , TRAEMAA128F428E58F\n",
        "80 Beatnuts featuring dead prez and Cheryl Pepsi Riley , Look Around featuring dead prez and Cheryl Pepsi Riley , 0 , TRAEMMB128F426A1BF\n",
        "81 "
       ]
      },
      {
       "output_type": "stream",
       "stream": "stdout",
       "text": [
        "Jazz Gillum , Little Woman , 0 , TRAEMXB128F429FA26\n",
        "82 Sonny Terry & Brownie McGhee , My Bulldog Blues , 0 , TRAEMZE128F426EB6B\n",
        "83 "
       ]
      },
      {
       "output_type": "stream",
       "stream": "stdout",
       "text": [
        "Michael McDonald , Love Can Break Your Heart (LP Version) , 0 , TRAEMZO12903CC525F\n",
        "84 La Portuaria , Palabras De Amor(En Vivo) , 0 , TRAEMDH128F146B548\n",
        "85 "
       ]
      },
      {
       "output_type": "stream",
       "stream": "stdout",
       "text": [
        "Brian Free & Assurance , Emmaus , 0 , TRAEQAC128F92FF871\n",
        "86 Skeeter Davis , He Says The Same Things To Me , 0 , TRAEQQE128F42920E3\n",
        "87 "
       ]
      },
      {
       "output_type": "stream",
       "stream": "stdout",
       "text": [
        "The Fray , Vienna , 2002 , TRAEQOS128F92EFD47\n",
        "88 Memphis La Blusera , Hoy Es Hoy , 0 , "
       ]
      },
      {
       "output_type": "stream",
       "stream": "stdout",
       "text": [
        "TRAEQWJ12903CF5475\n",
        "89 Alceu Valen\u00e7a , Sete Desejos , 1992 , TRAEQPB128F1475024\n",
        "90 Crazy Horse , E se tu lontana sei , 2006 , "
       ]
      },
      {
       "output_type": "stream",
       "stream": "stdout",
       "text": [
        "TRAEQZJ128F93522F8\n",
        "91 The In Crowd / Jah Stitch , Baby My Love , 0 , TRAEQNK128F93363BB\n",
        "92 Skeeter Davis , Foggy Mountain Top , 1963 , "
       ]
      },
      {
       "output_type": "stream",
       "stream": "stdout",
       "text": [
        "TRAEQZR128F92E9D73\n",
        "93 Dream Warriors , Sound Clash , 1996 , TRAEQLX128F1468799\n",
        "94 Tito Puente , Mambo Suavecito , 1993 , "
       ]
      },
      {
       "output_type": "stream",
       "stream": "stdout",
       "text": [
        "TRAEQTU12903CC55A2\n",
        "95 Bob Marley , Memphis , 1999 , TRAEQAB128F429C226\n",
        "96 Groucho Marx , Selling Jolson A Baseball Team , 0 , TRAEQOW128F42521E3\n",
        "97"
       ]
      },
      {
       "output_type": "stream",
       "stream": "stdout",
       "text": [
        " Joe Heaney , The Ferocious O' Flahertys , 0 , TRAENKS128F92F1780\n",
        "98 Frankie Randall , Rudolph The Red Nosed Reindeer , 0 , TRAENEZ128F427CCB4\n",
        "99 "
       ]
      },
      {
       "output_type": "stream",
       "stream": "stdout",
       "text": [
        "Remmy Ongala , I Want To Go Home , 0 , TRAENOR128F14585F8\n",
        "100 Chaotica , Turbocharger , 0 , TRAENYD128F424AA32\n"
       ]
      }
     ],
     "prompt_number": 5
    },
    {
     "cell_type": "markdown",
     "metadata": {},
     "source": [
      "##Read in Lyrics Database\n",
      "I'm not sure what this database contains, so I'm going to explore it."
     ]
    },
    {
     "cell_type": "code",
     "collapsed": false,
     "input": [
      "%cd ../\n",
      "%pwd"
     ],
     "language": "python",
     "metadata": {},
     "outputs": [
      {
       "output_type": "stream",
       "stream": "stdout",
       "text": [
        "/home/sally/projects/ga_assignments\n"
       ]
      },
      {
       "metadata": {},
       "output_type": "pyout",
       "prompt_number": 6,
       "text": [
        "u'/home/sally/projects/ga_assignments'"
       ]
      }
     ],
     "prompt_number": 6
    },
    {
     "cell_type": "code",
     "collapsed": false,
     "input": [
      "%pwd\n",
      "import sqlite3\n",
      "conn = sqlite3.connect(\"../Lyrics/mxm_dataset.db\")"
     ],
     "language": "python",
     "metadata": {},
     "outputs": [
      {
       "ename": "OperationalError",
       "evalue": "unable to open database file",
       "output_type": "pyerr",
       "traceback": [
        "\u001b[1;31m---------------------------------------------------------------------------\u001b[0m\n\u001b[1;31mOperationalError\u001b[0m                          Traceback (most recent call last)",
        "\u001b[1;32m<ipython-input-7-50bfd66cb401>\u001b[0m in \u001b[0;36m<module>\u001b[1;34m()\u001b[0m\n\u001b[0;32m      1\u001b[0m \u001b[0mget_ipython\u001b[0m\u001b[1;33m(\u001b[0m\u001b[1;33m)\u001b[0m\u001b[1;33m.\u001b[0m\u001b[0mmagic\u001b[0m\u001b[1;33m(\u001b[0m\u001b[1;34mu'pwd'\u001b[0m\u001b[1;33m)\u001b[0m\u001b[1;33m\u001b[0m\u001b[0m\n\u001b[0;32m      2\u001b[0m \u001b[1;32mimport\u001b[0m \u001b[0msqlite3\u001b[0m\u001b[1;33m\u001b[0m\u001b[0m\n\u001b[1;32m----> 3\u001b[1;33m \u001b[0mconn\u001b[0m \u001b[1;33m=\u001b[0m \u001b[0msqlite3\u001b[0m\u001b[1;33m.\u001b[0m\u001b[0mconnect\u001b[0m\u001b[1;33m(\u001b[0m\u001b[1;34m\"../Lyrics/mxm_dataset.db\"\u001b[0m\u001b[1;33m)\u001b[0m\u001b[1;33m\u001b[0m\u001b[0m\n\u001b[0m",
        "\u001b[1;31mOperationalError\u001b[0m: unable to open database file"
       ]
      }
     ],
     "prompt_number": 7
    },
    {
     "cell_type": "markdown",
     "metadata": {},
     "source": [
      "## Explore the Database\n",
      "What tables, columns and values do I have?"
     ]
    },
    {
     "cell_type": "code",
     "collapsed": false,
     "input": [
      "res = conn.execute(\"SELECT * FROM sqlite_master WHERE type='table'\")\n",
      "tables = res.fetchall()\n",
      "for table in tables:\n",
      "    print table\n",
      "    res = conn.execute(\"SELECT COUNT (*) FROM \" + table[2])\n",
      "    print \"# of rows in\", table[2], \":\", res.fetchall()\n",
      "    print \"First 50 rows:\"\n",
      "    res = conn.execute(\"SELECT * FROM \" + table[2] + \" LIMIT 50\")\n",
      "    print res.fetchall()"
     ],
     "language": "python",
     "metadata": {},
     "outputs": []
    },
    {
     "cell_type": "code",
     "collapsed": false,
     "input": [
      "import pandas as pd\n",
      "dataframes = []\n",
      "for table in tables:\n",
      "    dataframes.append(pd.read_sql(\"SELECT * from \" + table[2] + \" LIMIT 10000\" , conn))\n",
      "words_df, lyrics_df = dataframes \n",
      "lyrics_df.head()"
     ],
     "language": "python",
     "metadata": {},
     "outputs": []
    },
    {
     "cell_type": "code",
     "collapsed": false,
     "input": [
      "word_groupby = dataframes[1].groupby(['track_id','word'])\n",
      "word_groupby.sum()"
     ],
     "language": "python",
     "metadata": {},
     "outputs": []
    },
    {
     "cell_type": "markdown",
     "metadata": {},
     "source": [
      "## Create some Non-categorical Variables\n",
      "* Good for linear regression"
     ]
    }
   ],
   "metadata": {}
  }
 ]
}